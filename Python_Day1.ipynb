{
 "cells": [
  {
   "cell_type": "code",
   "execution_count": 1,
   "id": "7ef34afb-e750-4083-aa44-8c726be2f5fd",
   "metadata": {},
   "outputs": [
    {
     "name": "stdout",
     "output_type": "stream",
     "text": [
      "I want to be an AI engineer by 2025 Dec\n"
     ]
    }
   ],
   "source": [
    "print(\"I want to be an AI engineer by 2025 Dec\")"
   ]
  },
  {
   "cell_type": "code",
   "execution_count": 3,
   "id": "96511289-bfa5-4fae-9fcc-47cc5dd1eade",
   "metadata": {},
   "outputs": [
    {
     "name": "stdout",
     "output_type": "stream",
     "text": [
      "3\n",
      "7\n"
     ]
    }
   ],
   "source": [
    "print(5-2)\n",
    "print(5+2)"
   ]
  },
  {
   "cell_type": "code",
   "execution_count": 7,
   "id": "08fc7f75-8503-44f7-9b5e-a888fbc7768c",
   "metadata": {},
   "outputs": [
    {
     "name": "stdout",
     "output_type": "stream",
     "text": [
      "40\n",
      "30\n",
      "175\n",
      "7.0\n"
     ]
    }
   ],
   "source": [
    "## Arthmetic Operators\n",
    "a=35\n",
    "b=5\n",
    "print(a+b)\n",
    "print(a-b)\n",
    "print(a*b)\n",
    "print(a/b)"
   ]
  },
  {
   "cell_type": "code",
   "execution_count": 8,
   "id": "462556ae-4d73-4514-8852-23b7d42c1319",
   "metadata": {},
   "outputs": [
    {
     "name": "stdout",
     "output_type": "stream",
     "text": [
      "8\n"
     ]
    }
   ],
   "source": [
    "# Exponent\n",
    "print(2**3)"
   ]
  },
  {
   "cell_type": "code",
   "execution_count": 9,
   "id": "ef313195-c6eb-48df-b91b-2cec9743fa00",
   "metadata": {},
   "outputs": [
    {
     "name": "stdout",
     "output_type": "stream",
     "text": [
      "1099511627776\n"
     ]
    }
   ],
   "source": [
    "print(4**20)\n"
   ]
  },
  {
   "cell_type": "code",
   "execution_count": 11,
   "id": "c2e61a41-1c0b-405d-9588-54949f70dab0",
   "metadata": {},
   "outputs": [
    {
     "name": "stdout",
     "output_type": "stream",
     "text": [
      "1\n"
     ]
    }
   ],
   "source": [
    "# Modulus\n",
    "print(21%5)"
   ]
  },
  {
   "cell_type": "code",
   "execution_count": 20,
   "id": "9486f9f4-8b31-4211-b180-b5690aa90eba",
   "metadata": {},
   "outputs": [
    {
     "name": "stdout",
     "output_type": "stream",
     "text": [
      "Area of the rectangle having length 5 and width 3 is :  45\n",
      "Area of the rectangle having length 15 and width 3 is :  45\n"
     ]
    }
   ],
   "source": [
    "# Length of a rectangle is 5 and width is 3. What is the area?\n",
    "length=15\n",
    "width=3\n",
    "area = length*width\n",
    "print(\"Area of the rectangle having length 5 and width 3 is : \", area)\n",
    "print(f\"Area of the rectangle having length {length} and width {width} is : \", area)"
   ]
  },
  {
   "cell_type": "code",
   "execution_count": 21,
   "id": "7cd8c7ac-3861-474c-8c98-b3cbbf6fcf26",
   "metadata": {},
   "outputs": [
    {
     "name": "stdout",
     "output_type": "stream",
     "text": [
      "Area of the rectangle having length 15 and width 3 is :  45\n"
     ]
    }
   ],
   "source": [
    "print(f\"Area of the rectangle having length {length} and width {width} is : \", area)"
   ]
  },
  {
   "cell_type": "code",
   "execution_count": 24,
   "id": "1c02b0ba-4b32-490f-ae88-19eb8acb2398",
   "metadata": {},
   "outputs": [
    {
     "name": "stdin",
     "output_type": "stream",
     "text": [
      "Enter the length of the rectangle 12\n",
      "Enter the width of the rectangle 14\n"
     ]
    },
    {
     "name": "stdout",
     "output_type": "stream",
     "text": [
      "Area of the rectangle having length 12 and width 14 is: 168\n"
     ]
    }
   ],
   "source": [
    "## User input\n",
    "length=int(input(\"Enter the length of the rectangle: \"))\n",
    "width= int(input(\"Enter the width of the rectangle: \"))\n",
    "area = length*width\n",
    "print(f\"Area of the rectangle having length {length} and width {width} is:\",area)\n"
   ]
  },
  {
   "cell_type": "code",
   "execution_count": 26,
   "id": "1fc3b094-1d09-4411-b40d-c9512a2ad1c2",
   "metadata": {},
   "outputs": [
    {
     "name": "stdin",
     "output_type": "stream",
     "text": [
      "Enter the height of the triangle:  5\n",
      "Enter the base of the triangle:  12\n"
     ]
    },
    {
     "name": "stdout",
     "output_type": "stream",
     "text": [
      "Area of the rectangle having height 5 and base 12 is: 30.0\n"
     ]
    }
   ],
   "source": [
    "## Find area of right angled triangle having height and base   \n",
    "height=int(input(\"Enter the height of the triangle: \"))\n",
    "base= int(input(\"Enter the base of the triangle: \"))\n",
    "area = 0.5*base*height\n",
    "print(f\"Area of the rectangle having height {height} and base {base} is:\",area)"
   ]
  },
  {
   "cell_type": "code",
   "execution_count": 31,
   "id": "4bc5abcf-d1e2-4923-a89f-0580f28726c7",
   "metadata": {},
   "outputs": [
    {
     "name": "stdin",
     "output_type": "stream",
     "text": [
      "Ënter the number:  5\n"
     ]
    },
    {
     "name": "stdout",
     "output_type": "stream",
     "text": [
      " 5 is odd\n"
     ]
    }
   ],
   "source": [
    "# if else statement\n",
    "## if the number is odd or even\n",
    "a= int(input(\"Ënter the number: \"))\n",
    "if a==0:\n",
    "    print(\"a is 0\")\n",
    "elif a%2==0:\n",
    "    print(f\"{a} is even\")\n",
    "else:\n",
    "    print(f\" {a} is odd\")\n"
   ]
  },
  {
   "cell_type": "code",
   "execution_count": 34,
   "id": "76071396-e2b9-4262-b912-f31ec9f32e23",
   "metadata": {},
   "outputs": [
    {
     "name": "stdin",
     "output_type": "stream",
     "text": [
      "Ënter the number:  0\n"
     ]
    },
    {
     "name": "stdout",
     "output_type": "stream",
     "text": [
      "a is 0\n"
     ]
    }
   ],
   "source": [
    "# Write a python code to check if a number is positive or negative or 0\n",
    "a= int(input(\"Ënter the number: \"))\n",
    "if a==0:\n",
    "    print(\"a is 0\")\n",
    "elif a<0:\n",
    "    print(f\"{a} is negative\")\n",
    "else:\n",
    "    print(f\" {a} is positive\")\n"
   ]
  },
  {
   "cell_type": "code",
   "execution_count": null,
   "id": "aba33340-faad-4053-ba3a-7a4d5fa1a905",
   "metadata": {},
   "outputs": [],
   "source": [
    "## Enter age of 3 brothers, a, b and c. Write pyton code to find elder brother\n",
    "a= int(input(\"Ënter the age of A: \"))\n",
    "b= int(input(\"Ënter the age of A: \"))\n",
    "c= int(input(\"Ënter the age of A: \"))\n",
    "if a==0:\n",
    "    print(\"a is 0\")\n",
    "elif a<0:\n",
    "    print(f\"{a} is negative\")\n",
    "else:\n",
    "    print(f\" {a} is positive\")"
   ]
  },
  {
   "cell_type": "markdown",
   "id": "9e3c2f57-ca1f-4063-bfb8-f045dd6c11b5",
   "metadata": {},
   "source": [
    "## Functions##\n"
   ]
  },
  {
   "cell_type": "code",
   "execution_count": null,
   "id": "167d38b6-30c5-488f-82b7-a48cb5a51c93",
   "metadata": {},
   "outputs": [],
   "source": [
    "# defining a function\n"
   ]
  },
  {
   "cell_type": "code",
   "execution_count": null,
   "id": "d0a07577-65f6-469e-8849-7d73d9b1d921",
   "metadata": {},
   "outputs": [],
   "source": [
    "# Data sequence in python\n",
    "1. list = [1,2,True,\"Hello\"] --Mutable\n",
    "2. tuple = (1,'m2',False,5) --Immutable\n",
    "3. set = {1,'m2',False,5.5} -- Only unique values\n",
    "4. dictionary1={'BMW':'Car',5:'number','Subham':'Student_name',5.6:'decimals'} --key value pair- Note: values can be duplicate but key is unique"
   ]
  },
  {
   "cell_type": "code",
   "execution_count": 39,
   "id": "b2f21d48-61e5-4fc1-b1c8-e1c45af9136a",
   "metadata": {},
   "outputs": [
    {
     "name": "stdout",
     "output_type": "stream",
     "text": [
      "<class 'list'>\n"
     ]
    }
   ],
   "source": [
    "# list\n",
    "list1=[1,2,3,4,5,6,7,8]\n",
    "print(type(list1))"
   ]
  },
  {
   "cell_type": "code",
   "execution_count": 42,
   "id": "53093bdd-1a16-4d1d-ae3a-581f26a8a8a6",
   "metadata": {},
   "outputs": [
    {
     "name": "stdout",
     "output_type": "stream",
     "text": [
      "1\n",
      "7\n",
      "8\n",
      "6\n"
     ]
    }
   ],
   "source": [
    "# indexing -- The position of a value in the list\n",
    "print(list1[0])\n",
    "print(list1[6])\n",
    "print(list1[-1])\n",
    "print(list1[-3])"
   ]
  },
  {
   "cell_type": "code",
   "execution_count": 56,
   "id": "7d46af38-5519-42d5-9cbf-18294a5d6638",
   "metadata": {},
   "outputs": [
    {
     "name": "stdout",
     "output_type": "stream",
     "text": [
      "[1, 2, 3, 4, 5, 6, 7, 8]\n",
      "[1, 2, 3]\n",
      "[1, 2, 3]\n",
      "[2, 3, 4]\n",
      "[]\n",
      "[3, 4, 5, 6, 7, 8]\n",
      "[3, 4, 5, 6, 7]\n",
      "[1, 3]\n"
     ]
    }
   ],
   "source": [
    "## slicing\n",
    "print(list1[:])\n",
    "print(list1[0:3])\n",
    "print(list1[:3])\n",
    "print(list1[1:4])\n",
    "print(list1[2:2])\n",
    "print(list1[2:])\n",
    "print(list1[2:-1])\n",
    "print(list1[0:4:2])"
   ]
  },
  {
   "cell_type": "code",
   "execution_count": 55,
   "id": "c196d3fe-b0d4-4792-9157-92cab5c77fae",
   "metadata": {},
   "outputs": [
    {
     "name": "stdout",
     "output_type": "stream",
     "text": [
      "[8, 7, 6, 5, 4, 3, 2, 1]\n",
      "[1, 2, 3, 4, 5, 6, 7, 8]\n",
      "[1, 3, 5, 7]\n",
      "[1, 2, 3, 4, 5, 6, 7]\n",
      "[1]\n"
     ]
    }
   ],
   "source": [
    "# reverse a list\n",
    "print(list1[::-1])\n",
    "print(list1[::1])\n",
    "print(list1[::2])\n",
    "print(list1[:-1])\n",
    "print(list1[:1])"
   ]
  },
  {
   "cell_type": "code",
   "execution_count": 57,
   "id": "480616a1-5d2a-4974-afdc-92fc7e415d6f",
   "metadata": {},
   "outputs": [
    {
     "name": "stdout",
     "output_type": "stream",
     "text": [
      "[22, 24, 45, 66, 86, 1000]\n"
     ]
    }
   ],
   "source": [
    "# 2. Append method\n",
    "DG=[22,24,45,66,86]\n",
    "DG.append(1000)\n",
    "print(DG)"
   ]
  },
  {
   "cell_type": "code",
   "execution_count": 58,
   "id": "1d08d2ec-b51e-49b1-9ae5-dc0064fc186c",
   "metadata": {},
   "outputs": [
    {
     "name": "stdout",
     "output_type": "stream",
     "text": [
      "[22, 24, 45, 66, 86, 1000, 'Hello']\n"
     ]
    }
   ],
   "source": [
    "DG.append('Hello')\n",
    "print(DG)"
   ]
  },
  {
   "cell_type": "code",
   "execution_count": 59,
   "id": "802f2264-5295-48dc-83f9-73b66976aad7",
   "metadata": {},
   "outputs": [
    {
     "name": "stdout",
     "output_type": "stream",
     "text": [
      "[22, 24, 45, 999, 66, 86, 1000, 'Hello']\n"
     ]
    }
   ],
   "source": [
    "# 3. Insert method\n",
    "DG.insert(3,999)\n",
    "print(DG)\n"
   ]
  },
  {
   "cell_type": "code",
   "execution_count": 60,
   "id": "31c115d4-e73a-4a2a-b186-b71e559bb68e",
   "metadata": {},
   "outputs": [
    {
     "ename": "TypeError",
     "evalue": "'<' not supported between instances of 'str' and 'int'",
     "output_type": "error",
     "traceback": [
      "\u001b[31m---------------------------------------------------------------------------\u001b[39m",
      "\u001b[31mTypeError\u001b[39m                                 Traceback (most recent call last)",
      "\u001b[36mCell\u001b[39m\u001b[36m \u001b[39m\u001b[32mIn[60]\u001b[39m\u001b[32m, line 2\u001b[39m\n\u001b[32m      1\u001b[39m \u001b[38;5;66;03m# Sort method .. Arranges the values in ascending or descending order\u001b[39;00m\n\u001b[32m----> \u001b[39m\u001b[32m2\u001b[39m DG.sort()\n\u001b[32m      3\u001b[39m \u001b[38;5;28mprint\u001b[39m(DG)\n",
      "\u001b[31mTypeError\u001b[39m: '<' not supported between instances of 'str' and 'int'"
     ]
    }
   ],
   "source": [
    "# 4. Sort method .. Arranges the values in ascending order\n",
    "DG.sort()\n",
    "print(DG)"
   ]
  },
  {
   "cell_type": "code",
   "execution_count": 61,
   "id": "c0f9339f-3604-4059-b6ad-e0066f50700a",
   "metadata": {},
   "outputs": [
    {
     "ename": "TypeError",
     "evalue": "'<' not supported between instances of 'int' and 'str'",
     "output_type": "error",
     "traceback": [
      "\u001b[31m---------------------------------------------------------------------------\u001b[39m",
      "\u001b[31mTypeError\u001b[39m                                 Traceback (most recent call last)",
      "\u001b[36mCell\u001b[39m\u001b[36m \u001b[39m\u001b[32mIn[61]\u001b[39m\u001b[32m, line 2\u001b[39m\n\u001b[32m      1\u001b[39m \u001b[38;5;66;03m# Sort method .. Arranges the values descending order\u001b[39;00m\n\u001b[32m----> \u001b[39m\u001b[32m2\u001b[39m DG.sort(reverse=\u001b[38;5;28;01mTrue\u001b[39;00m)\n",
      "\u001b[31mTypeError\u001b[39m: '<' not supported between instances of 'int' and 'str'"
     ]
    }
   ],
   "source": [
    "# 5. Sort method .. Arranges the values descending order\n",
    "DG.sort(reverse=True)"
   ]
  },
  {
   "cell_type": "code",
   "execution_count": 63,
   "id": "0bfd36fe-3783-47db-8f1b-61fe7b171a5a",
   "metadata": {},
   "outputs": [
    {
     "name": "stdout",
     "output_type": "stream",
     "text": [
      "[22, 24, 45, 66, 86, 999, 1000, 'Hello']\n",
      "5\n"
     ]
    }
   ],
   "source": [
    "# 6.Index\n",
    "print(DG)\n",
    "print(DG.index(999))"
   ]
  },
  {
   "cell_type": "code",
   "execution_count": 64,
   "id": "78796999-8263-4bd1-9e0f-9e336b3d79b3",
   "metadata": {},
   "outputs": [
    {
     "name": "stdout",
     "output_type": "stream",
     "text": [
      "8\n"
     ]
    }
   ],
   "source": [
    "# 7. len\n",
    "print(len(DG))\n"
   ]
  },
  {
   "cell_type": "code",
   "execution_count": 67,
   "id": "74a4314b-ba6b-45c8-9d55-af52bf8c5841",
   "metadata": {},
   "outputs": [
    {
     "name": "stdout",
     "output_type": "stream",
     "text": [
      "1\n"
     ]
    }
   ],
   "source": [
    "# count . returns number of representations for a particular value\n",
    "print(DG.count(22))\n"
   ]
  },
  {
   "cell_type": "code",
   "execution_count": 68,
   "id": "81a43a85-4fc6-48f3-a07a-6a1026e6e90c",
   "metadata": {},
   "outputs": [
    {
     "name": "stdout",
     "output_type": "stream",
     "text": [
      "[1, 2, 3, 4]\n"
     ]
    }
   ],
   "source": [
    "# 8. Copy\n",
    "A=[1,2,3,4]\n",
    "A1=A.copy()\n",
    "print(A1)\n"
   ]
  },
  {
   "cell_type": "code",
   "execution_count": 69,
   "id": "6b4c702b-72c4-4cc5-a9b8-a98bbac16a7f",
   "metadata": {},
   "outputs": [
    {
     "name": "stdout",
     "output_type": "stream",
     "text": [
      "[1, 2, 3, 4, 7]\n",
      "[1, 2, 3, 4]\n"
     ]
    }
   ],
   "source": [
    "A1.append(7)\n",
    "print(A1)\n",
    "print(A)"
   ]
  },
  {
   "cell_type": "code",
   "execution_count": 70,
   "id": "a6554fa2-6ced-4bb5-9142-aeef18702ffa",
   "metadata": {},
   "outputs": [
    {
     "name": "stdout",
     "output_type": "stream",
     "text": [
      "[1, 2, 3, 4, 99]\n",
      "[1, 2, 3, 4, 7]\n"
     ]
    }
   ],
   "source": [
    "A.append(99)\n",
    "print(A)\n",
    "print(A1)"
   ]
  },
  {
   "cell_type": "code",
   "execution_count": 71,
   "id": "1b072df5-4517-4f4e-81b4-9faa36a96160",
   "metadata": {},
   "outputs": [
    {
     "name": "stdout",
     "output_type": "stream",
     "text": [
      "[1, 2, 3, 4, 5, 6, 7]\n",
      "[5, 6, 7]\n"
     ]
    }
   ],
   "source": [
    "#9. Extend\n",
    "a=[1,2,3,4]\n",
    "b=[5,6,7]\n",
    "a.extend(b)\n",
    "print(a)\n",
    "print(b)"
   ]
  },
  {
   "cell_type": "code",
   "execution_count": null,
   "id": "74c7e8b8-590a-4abc-aee0-5916fcc6cb80",
   "metadata": {},
   "outputs": [],
   "source": [
    "# Assignments"
   ]
  }
 ],
 "metadata": {
  "kernelspec": {
   "display_name": "Python 3 (ipykernel)",
   "language": "python",
   "name": "python3"
  },
  "language_info": {
   "codemirror_mode": {
    "name": "ipython",
    "version": 3
   },
   "file_extension": ".py",
   "mimetype": "text/x-python",
   "name": "python",
   "nbconvert_exporter": "python",
   "pygments_lexer": "ipython3",
   "version": "3.13.5"
  }
 },
 "nbformat": 4,
 "nbformat_minor": 5
}
