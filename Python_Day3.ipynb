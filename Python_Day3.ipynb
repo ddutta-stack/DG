{
 "cells": [
  {
   "cell_type": "code",
   "execution_count": 2,
   "id": "af3ec45a-93ef-49af-a72d-cf2bb1734fd0",
   "metadata": {},
   "outputs": [
    {
     "name": "stdout",
     "output_type": "stream",
     "text": [
      "[1, 2, 3, 4, 8, 9]\n"
     ]
    }
   ],
   "source": [
    "l=[1,2,3,4,2,2,3,3,8,9,9,9,]\n",
    "temp_set=set(l)\n",
    "l=list(temp_set)\n",
    "print(l)"
   ]
  },
  {
   "cell_type": "code",
   "execution_count": 6,
   "id": "7250622f-6201-4e4a-8fc7-7d88bbd37646",
   "metadata": {},
   "outputs": [
    {
     "name": "stdin",
     "output_type": "stream",
     "text": [
      "enter the number 9\n"
     ]
    },
    {
     "name": "stdout",
     "output_type": "stream",
     "text": [
      " number 9 is odd\n"
     ]
    }
   ],
   "source": [
    "# write a function to check if a number is odd or even\n",
    "def odd_even():\n",
    "    num=int(input('enter the number'))\n",
    "    if num==0:\n",
    "        print(f' number {num} is zero')\n",
    "    elif num%2==0:\n",
    "        print (f'number {num} is Even')\n",
    "    else:\n",
    "        print(f' number {num} is odd')\n",
    "odd_even()"
   ]
  },
  {
   "cell_type": "code",
   "execution_count": 7,
   "id": "01e858d2-c69d-4d4e-8707-93affd8ea184",
   "metadata": {},
   "outputs": [
    {
     "name": "stdout",
     "output_type": "stream",
     "text": [
      "(1, 3, 5, 99, 7)\n"
     ]
    }
   ],
   "source": [
    "# lists\n",
    "t=(1,3,5,7)\n",
    "b=list(t)\n",
    "b.insert(3,99)\n",
    "t1=tuple(b)\n",
    "print(t1)\n"
   ]
  },
  {
   "cell_type": "code",
   "execution_count": 10,
   "id": "e2ec7162-ad88-42cc-8181-52c4f59e6d44",
   "metadata": {},
   "outputs": [
    {
     "name": "stdout",
     "output_type": "stream",
     "text": [
      "1\n",
      "2\n",
      "3\n",
      "4\n",
      "5\n",
      "6\n",
      "7\n",
      "8\n",
      "9\n",
      "10\n"
     ]
    }
   ],
   "source": [
    "## loops - while, for\n",
    "# while\n",
    "i=1\n",
    "while (i<=10):\n",
    "    print(i)\n",
    "    i+=1"
   ]
  },
  {
   "cell_type": "code",
   "execution_count": 11,
   "id": "90fdc8b1-ebb5-4dc1-a8b4-0a5d7ad5c2c4",
   "metadata": {},
   "outputs": [
    {
     "name": "stdout",
     "output_type": "stream",
     "text": [
      "10\n",
      "9\n",
      "8\n",
      "7\n",
      "6\n",
      "5\n",
      "4\n",
      "3\n",
      "2\n",
      "1\n"
     ]
    }
   ],
   "source": [
    "i=10\n",
    "while (i>=1):\n",
    "    print(i)\n",
    "    i-=1"
   ]
  },
  {
   "cell_type": "code",
   "execution_count": 13,
   "id": "bd268a96-9be8-45ee-b230-ff4251663fc6",
   "metadata": {},
   "outputs": [
    {
     "name": "stdout",
     "output_type": "stream",
     "text": [
      "0\n",
      "2\n",
      "4\n",
      "6\n",
      "8\n",
      "10\n",
      "12\n",
      "14\n",
      "16\n",
      "18\n",
      "20\n"
     ]
    }
   ],
   "source": [
    "# print 0 to 20 (only even numbers)\n",
    "i=0\n",
    "while (i<=20):\n",
    "    print(i)\n",
    "    i+=2"
   ]
  },
  {
   "cell_type": "code",
   "execution_count": 19,
   "id": "5e712d10-536d-4968-85f8-e88308aa8338",
   "metadata": {},
   "outputs": [
    {
     "name": "stdin",
     "output_type": "stream",
     "text": [
      "enter the number for which you want the multiplication table: 6\n"
     ]
    },
    {
     "name": "stdout",
     "output_type": "stream",
     "text": [
      "6 * 1=6\n",
      "6 * 2=12\n",
      "6 * 3=18\n",
      "6 * 4=24\n",
      "6 * 5=30\n",
      "6 * 6=36\n",
      "6 * 7=42\n",
      "6 * 8=48\n",
      "6 * 9=54\n",
      "6 * 10=60\n"
     ]
    }
   ],
   "source": [
    "# print any table upto 10\n",
    "def mul_table():\n",
    "    num=int(input('enter the number for which you want the multiplication table:'))\n",
    "    counter=1\n",
    "    while counter<=10:\n",
    "        print(f'{num} * {counter}={num*counter}')\n",
    "        counter+=1\n",
    "mul_table()"
   ]
  },
  {
   "cell_type": "code",
   "execution_count": 20,
   "id": "0bd0868d-c7e6-483c-93aa-321fabed1cbf",
   "metadata": {},
   "outputs": [
    {
     "name": "stdout",
     "output_type": "stream",
     "text": [
      "[1, 4, 9, 16, 25, 36]\n"
     ]
    }
   ],
   "source": [
    "list1=[1,2,3,4,5,6]\n",
    "# print all squares of numbers in the list\n",
    "list2=[]\n",
    "index=0\n",
    "while index<len(list1):\n",
    "    list2.append(list1[index]**2)\n",
    "    index+=1\n",
    "print(list2)"
   ]
  },
  {
   "cell_type": "code",
   "execution_count": 21,
   "id": "7bb738d5-2536-46c8-b405-00e8a5da8ee4",
   "metadata": {},
   "outputs": [
    {
     "name": "stdout",
     "output_type": "stream",
     "text": [
      "[5, 20, 45, 80, 125, 180]\n"
     ]
    }
   ],
   "source": [
    "list1=[1,2,3,4,5,6]\n",
    "# print all squares of numbers in the list\n",
    "list2=[]\n",
    "list3=[]\n",
    "index=0\n",
    "while index<len(list1):\n",
    "    list2.append(list1[index]**2)\n",
    "    list3.append(list2[index]*5)\n",
    "    index+=1\n",
    "print(list3)"
   ]
  },
  {
   "cell_type": "code",
   "execution_count": 33,
   "id": "ccd32ee7-bc29-4762-b7c3-61c73baaaac0",
   "metadata": {},
   "outputs": [
    {
     "name": "stdout",
     "output_type": "stream",
     "text": [
      "[1, 2, 3, 4, 5, 6, 7, 8, 1, 2]\n",
      "[]\n"
     ]
    }
   ],
   "source": [
    "# Assignment\n",
    "a=[1,2,3,4,5,6,7,8]\n",
    "b=[1,2]\n",
    "c=[] # keep all unique values in c from a and b\n",
    "d=[]\n",
    "d.extend(a)\n",
    "d.extend(b)\n",
    "print(d)\n",
    "for i in d:\n",
    "    if i not in c:\n",
    "        c.append(i)\n",
    "print(c)"
   ]
  },
  {
   "cell_type": "code",
   "execution_count": 1,
   "id": "ecab1e3f-a915-4967-bcfe-301a8e02c43b",
   "metadata": {},
   "outputs": [
    {
     "name": "stdin",
     "output_type": "stream",
     "text": [
      "This is easy, give a diffiuclt one easy\n",
      "This is easy, give a diffiuclt one easy\n",
      "This is easy, give a diffiuclt one it is difficult\n"
     ]
    }
   ],
   "source": [
    "# using while wiht strings comparison\n",
    "i=''\n",
    "while i!='it is difficult':\n",
    "    i=input('This is easy, give a diffiuclt one')"
   ]
  },
  {
   "cell_type": "code",
   "execution_count": 25,
   "id": "cdd99876-7709-4ccf-9c09-bece8e738339",
   "metadata": {},
   "outputs": [
    {
     "name": "stdout",
     "output_type": "stream",
     "text": [
      "1\n",
      "2\n",
      "3\n",
      "4\n",
      "5\n",
      "6\n",
      "7\n",
      "8\n"
     ]
    }
   ],
   "source": [
    "## Break and continue\n",
    "# print 1 to 20, break when i=9\n",
    "i=1\n",
    "while i<=20:\n",
    "    if i==9:\n",
    "        break\n",
    "    else:\n",
    "        print(i)\n",
    "    i+=1\n",
    "    "
   ]
  },
  {
   "cell_type": "code",
   "execution_count": 27,
   "id": "fd58d453-3118-4c58-bf59-d6f5eed8b51c",
   "metadata": {},
   "outputs": [
    {
     "name": "stdout",
     "output_type": "stream",
     "text": [
      "20\n",
      "19\n",
      "18\n",
      "17\n",
      "16\n",
      "15\n",
      "14\n",
      "13\n",
      "12\n",
      "11\n",
      "10\n",
      "9 has arrived\n"
     ]
    }
   ],
   "source": [
    "i=20\n",
    "while i>=0:\n",
    "    if i==9:\n",
    "        print(\"9 has arrived\")\n",
    "        break\n",
    "    else:\n",
    "        print(i)\n",
    "    i-=1"
   ]
  },
  {
   "cell_type": "code",
   "execution_count": 32,
   "id": "c7ab82e6-1c5c-4cac-ab4e-46bdb8fb69fc",
   "metadata": {},
   "outputs": [
    {
     "name": "stdout",
     "output_type": "stream",
     "text": [
      "1\n",
      "2\n",
      "3\n",
      "4\n",
      "5\n",
      "6\n",
      "8\n",
      "9\n",
      "10\n",
      "11\n",
      "12\n",
      "13\n",
      "14\n",
      "15\n",
      "16\n",
      "17\n",
      "18\n",
      "19\n",
      "20\n"
     ]
    }
   ],
   "source": [
    "# continue\n",
    "# skip  number 7 from 1 to 20\n",
    "i=1\n",
    "while i<=20:\n",
    "    if i==7:\n",
    "        i+=1\n",
    "        continue\n",
    "    else:\n",
    "        print(i)\n",
    "        i+=1\n"
   ]
  },
  {
   "cell_type": "code",
   "execution_count": null,
   "id": "61063924-af1f-4891-8711-83dd87bc92de",
   "metadata": {},
   "outputs": [],
   "source": [
    "# skip  multiple of 3 from 1 to 20 -- Asignment , work on this\n",
    "i=1\n",
    "while i<=20:\n",
    "    if i%3==0:\n",
    "        i+=1\n",
    "        continue\n",
    "    else:\n",
    "        print(i)\n",
    "        i+=1"
   ]
  },
  {
   "cell_type": "code",
   "execution_count": 10,
   "id": "89379638-824b-4f06-a7a9-7db292e13c93",
   "metadata": {},
   "outputs": [
    {
     "name": "stdout",
     "output_type": "stream",
     "text": [
      "20\n",
      "19\n",
      "18\n",
      "17\n",
      "16\n",
      "15\n",
      "14\n",
      "13\n",
      "12\n",
      "11\n",
      "10\n",
      "9\n",
      "8\n",
      "6\n",
      "5\n",
      "4\n",
      "3\n",
      "2\n",
      "1\n"
     ]
    }
   ],
   "source": [
    "i = 20\n",
    "while i >=1:\n",
    "    if i ==7:\n",
    "        i-=1\n",
    "        continue\n",
    "    print(i)\n",
    "    i-=1"
   ]
  },
  {
   "cell_type": "code",
   "execution_count": null,
   "id": "3daa5100-886b-4459-b80d-0d4ebb007d73",
   "metadata": {},
   "outputs": [],
   "source": []
  }
 ],
 "metadata": {
  "kernelspec": {
   "display_name": "Python 3 (ipykernel)",
   "language": "python",
   "name": "python3"
  },
  "language_info": {
   "codemirror_mode": {
    "name": "ipython",
    "version": 3
   },
   "file_extension": ".py",
   "mimetype": "text/x-python",
   "name": "python",
   "nbconvert_exporter": "python",
   "pygments_lexer": "ipython3",
   "version": "3.13.5"
  }
 },
 "nbformat": 4,
 "nbformat_minor": 5
}
