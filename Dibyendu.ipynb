{
 "cells": [
  {
   "cell_type": "code",
   "execution_count": 1,
   "id": "121e4015-eb39-414c-aeb2-c71a8e3c3be0",
   "metadata": {},
   "outputs": [
    {
     "name": "stdout",
     "output_type": "stream",
     "text": [
      "enter the age of Brother1\n"
     ]
    },
    {
     "name": "stdin",
     "output_type": "stream",
     "text": [
      "None 67\n"
     ]
    },
    {
     "name": "stdout",
     "output_type": "stream",
     "text": [
      "enter the age of Brother2\n"
     ]
    },
    {
     "name": "stdin",
     "output_type": "stream",
     "text": [
      "None 88\n"
     ]
    },
    {
     "name": "stdout",
     "output_type": "stream",
     "text": [
      "enter the age of Brother3\n"
     ]
    },
    {
     "name": "stdin",
     "output_type": "stream",
     "text": [
      "None 99\n"
     ]
    },
    {
     "name": "stdout",
     "output_type": "stream",
     "text": [
      "Brother 3 is eldest\n"
     ]
    }
   ],
   "source": [
    "#1. Write a python program to enter ages of three brothers and determine the elder one\n",
    "def eldest():   \n",
    "    age1=int(input(print(\"enter the age of Brother1\")))\n",
    "    age2=int(input(print(\"enter the age of Brother2\")))\n",
    "    age3=int(input(print(\"enter the age of Brother3\")))\n",
    "    if age1>age2:\n",
    "        if age1>age3:\n",
    "            print (\"Brother 1 is eldest\")\n",
    "    elif age2>age3:\n",
    "        print(\"Brother 2 is eldest\")\n",
    "    else:\n",
    "        print(\"Brother 3 is eldest\")\n",
    "\n",
    "eldest()"
   ]
  },
  {
   "cell_type": "code",
   "execution_count": 8,
   "id": "ecf76125-cbb5-40eb-9332-22224f6a9fbc",
   "metadata": {},
   "outputs": [
    {
     "name": "stdout",
     "output_type": "stream",
     "text": [
      "enter the temperature\n"
     ]
    },
    {
     "name": "stdin",
     "output_type": "stream",
     "text": [
      "None 55\n"
     ]
    },
    {
     "name": "stdout",
     "output_type": "stream",
     "text": [
      "enter the humidity\n"
     ]
    },
    {
     "name": "stdin",
     "output_type": "stream",
     "text": [
      "None 78\n"
     ]
    },
    {
     "name": "stdout",
     "output_type": "stream",
     "text": [
      "Hot\n"
     ]
    }
   ],
   "source": [
    "#2. Temperature and humidity problem\n",
    "def humidity():   \n",
    "    temp = int(input(print(\"enter the temperature\")))\n",
    "    humidity = int(input(print(\"enter the humidity\")))\n",
    "    if temp<30 and humidity<90:\n",
    "        print(\"Cool\")\n",
    "    elif temp>=30 and humidity >=90:\n",
    "        print(\"Hot and humid\")\n",
    "    elif temp >=30 and humidity < 90:\n",
    "        print(\"Hot\")\n",
    "    elif temp<30 and humidity>=90:\n",
    "        print(\"Cool and humid\")\n",
    "    else:\n",
    "        print(\"Unable to decide\")\n",
    "humidity()"
   ]
  },
  {
   "cell_type": "code",
   "execution_count": 11,
   "id": "a7839376-a489-4ba4-b3e8-5f62edd4bff4",
   "metadata": {},
   "outputs": [
    {
     "name": "stdout",
     "output_type": "stream",
     "text": [
      "Enter your salary\n"
     ]
    },
    {
     "name": "stdin",
     "output_type": "stream",
     "text": [
      "None 3000000\n"
     ]
    },
    {
     "name": "stdout",
     "output_type": "stream",
     "text": [
      "Salary after deductions and tax is :1560000.0\n"
     ]
    }
   ],
   "source": [
    "#3. Tax problem\n",
    "def calcuate_tax():\n",
    "    \n",
    "    sal=int(input(print(\"Enter your salary\")))\n",
    "    hra=0.1\n",
    "    da=0.05\n",
    "    pf=0.03\n",
    "    if sal <=500000:\n",
    "        tax=0\n",
    "    elif sal>500000 and sal<1000000:\n",
    "        tax=sal*0.1\n",
    "    elif sal>1000000 and sal<2000000:\n",
    "        tax=sal*0.2\n",
    "    else:\n",
    "        tax=sal*0.3\n",
    "    new_sal=sal-(sal*hra+sal*da+sal*pf)-tax\n",
    "    print (f\"Salary after deductions and tax is :{new_sal}\")\n",
    "calculate_tax()"
   ]
  },
  {
   "cell_type": "code",
   "execution_count": 2,
   "id": "372b6b08-4f71-4288-b313-957489e67c93",
   "metadata": {},
   "outputs": [
    {
     "name": "stdin",
     "output_type": "stream",
     "text": [
      "enter the Bill amount 7900\n"
     ]
    },
    {
     "name": "stdout",
     "output_type": "stream",
     "text": [
      "Discount:790.0 and Final amount is 7110.0\n"
     ]
    }
   ],
   "source": [
    "# 4. Write a function to check discount\n",
    "def deal_checker():\n",
    "    ds=int(input(\"enter the Bill amount\"))\n",
    "    if ds<5000:\n",
    "        discount=.05*ds\n",
    "    else:\n",
    "        discount=.1*ds\n",
    "    amount=ds-discount\n",
    "    print(f'Discount:{discount} and Final amount is {amount}')\n",
    "deal_checker()"
   ]
  },
  {
   "cell_type": "code",
   "execution_count": null,
   "id": "f82c8fed-3184-4e71-aab7-74aac2f96cbf",
   "metadata": {},
   "outputs": [],
   "source": []
  }
 ],
 "metadata": {
  "kernelspec": {
   "display_name": "Python 3 (ipykernel)",
   "language": "python",
   "name": "python3"
  },
  "language_info": {
   "codemirror_mode": {
    "name": "ipython",
    "version": 3
   },
   "file_extension": ".py",
   "mimetype": "text/x-python",
   "name": "python",
   "nbconvert_exporter": "python",
   "pygments_lexer": "ipython3",
   "version": "3.13.5"
  }
 },
 "nbformat": 4,
 "nbformat_minor": 5
}
